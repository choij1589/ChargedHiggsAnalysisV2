{
 "cells": [
  {
   "cell_type": "code",
   "execution_count": 1,
   "metadata": {},
   "outputs": [
    {
     "name": "stdout",
     "output_type": "stream",
     "text": [
      "Welcome to JupyROOT 6.30/04\n"
     ]
    }
   ],
   "source": [
    "import os\n",
    "import ROOT\n",
    "import json\n",
    "import logging\n",
    "import pandas as pd \n",
    "from math import pow, sqrt\n",
    "from ctypes import c_double\n",
    "from pprint import pprint"
   ]
  },
  {
   "cell_type": "code",
   "execution_count": 108,
   "metadata": {},
   "outputs": [],
   "source": [
    "ERA = \"2018\"\n",
    "CHANNEL = \"Skim1E2Mu\"\n",
    "histkey = \"ZCand/mass\"\n",
    "\n",
    "WORKDIR = \"/home/choij/workspace/ChargedHiggsAnalysisV2\"\n",
    "\n",
    "DATASTREAM = \"\"\n",
    "if CHANNEL == \"Skim1E2Mu\":\n",
    "    DATASTREAM = \"MuonEG\"\n",
    "    REGION = \"ZGamma1E2Mu\"\n",
    "if CHANNEL == \"Skim3Mu\":\n",
    "    DATASTREAM = \"DoubleMuon\"\n",
    "    REGION = \"ZGamma3Mu\"\n",
    "\n",
    "CONV = [\"DYJets\", \"DYJets10to50_MG\", \"ZGToLLG\"]\n",
    "DIBOSON = [\"WZTo3LNu_amcatnlo\",\"ZZTo4L_powheg\"]\n",
    "#DIBOSON = [\"WZTo3LNu_amcatnlo\"]\n",
    "TTX     = [\"ttWToLNu\", \"ttZToLLNuNu\", \"ttHToNonbb\"]\n",
    "RARE    = [\"WWW\", \"WWZ\", \"WZZ\", \"ZZZ\", \"tZq\", \"TTG\", \"tHq\", \"TTTT\", \"WWG\", \"VBF_HToZZTo4L\", \"GluGluHToZZTo4L\"]\n",
    "MCLists = CONV + DIBOSON + TTX + RARE\n",
    "PromptBkgs = DIBOSON + TTX + RARE\n",
    "\n",
    "\n",
    "SYSTs = []\n",
    "if CHANNEL == \"Skim1E2Mu\":\n",
    "    SYSTs = [[\"L1PrefireUp\", \"L1PrefireDown\"],\n",
    "             [\"PileupReweightUp\", \"PileupReweightDown\"],\n",
    "             [\"MuonIDSFUp\", \"MuonIDSFDown\"],\n",
    "             [\"ElectronIDSFUp\", \"ElectronIDSFDown\"],\n",
    "             [\"EMuTrigSFUp\", \"EMuTrigSFDown\"],\n",
    "             [\"JetResUp\", \"JetResDown\"],\n",
    "             [\"JetEnUp\", \"JetEnDown\"],\n",
    "             [\"ElectronResUp\", \"ElectronResDown\"],\n",
    "             [\"ElectronEnUp\", \"ElectronEnDown\"],\n",
    "             [\"MuonEnUp\", \"MuonEnDown\"]]\n",
    "if CHANNEL == \"Skim3Mu\":\n",
    "    SYSTs = [[\"L1PrefireUp\", \"L1PrefireDown\"],\n",
    "             [\"PileupReweightUp\", \"PileupReweightDown\"],\n",
    "             [\"MuonIDSFUp\", \"MuonIDSFDown\"],\n",
    "             [\"DblMuTrigSFUp\", \"DblMuTrigSFDown\"],\n",
    "             [\"JetResUp\", \"JetResDown\"],\n",
    "             [\"JetEnUp\", \"JetEnDown\"],\n",
    "             [\"ElectronResUp\", \"ElectronResDown\"],\n",
    "             [\"ElectronEnUp\", \"ElectronEnDown\"],\n",
    "             [\"MuonEnUp\", \"MuonEnDown\"]]"
   ]
  },
  {
   "cell_type": "code",
   "execution_count": 109,
   "metadata": {},
   "outputs": [],
   "source": [
    "def hadd(file_path):\n",
    "    print(f\"file {file_path} does not exist. hadding...\")\n",
    "    os.system(f\"hadd -f {file_path} {file_path.replace('.root', '_*.root')}\")\n",
    "\n",
    "def extract_data_from_hist(sample):\n",
    "    data = {}\n",
    "    \n",
    "    # Open root file\n",
    "    if sample == DATASTREAM:\n",
    "        file_path = f\"{WORKDIR}/SKFlatOutput/Run2UltraLegacy_v3/MeasConversionV3/{ERA}/{CHANNEL}__/DATA/MeasConversionV3_{DATASTREAM}.root\"\n",
    "        if not os.path.exists(file_path):\n",
    "            hadd(file_path)\n",
    "    elif sample == \"nonprompt\":\n",
    "        file_path = f\"{WORKDIR}/SKFlatOutput/Run2UltraLegacy_v3/MeasConvMatrixV3/{ERA}/{CHANNEL}__/DATA/MeasConvMatrixV3_{DATASTREAM}.root\"\n",
    "        if not os.path.exists(file_path):\n",
    "            hadd(file_path)\n",
    "    else:\n",
    "        file_path = f\"{WORKDIR}/SKFlatOutput/Run2UltraLegacy_v3/MeasConversionV3/{ERA}/{CHANNEL}__/MeasConversionV3_{sample}.root\"\n",
    "        if sample == \"DYJets\" and not os.path.exists(file_path):\n",
    "            hadd(file_path)\n",
    "    assert os.path.exists(file_path), f\"file {file_path} does not exist\"\n",
    "    f = ROOT.TFile.Open(file_path)\n",
    "    try:\n",
    "        h = f.Get(f\"{REGION}/Central/{histkey}\"); h.SetDirectory(0)\n",
    "    \n",
    "        # Extract rate and stat error\n",
    "        stat = c_double()\n",
    "        rate = h.IntegralAndError(0, h.GetNbinsX()+1, stat)\n",
    "    \n",
    "        data[\"Central\"] = rate\n",
    "        data[\"Stat\"] = stat.value\n",
    "    except:\n",
    "        logging.warning(f\"Failed to extract Central for {sample}\")\n",
    "        data[\"Central\"] = None\n",
    "        data[\"Stat\"] = None\n",
    "    \n",
    "    # Now extract systematics\n",
    "    if sample not in [DATASTREAM, \"nonprompt\"]:\n",
    "        for syst in SYSTs:\n",
    "            for s in syst:\n",
    "                try:\n",
    "                    h = f.Get(f\"{REGION}/{s}/{histkey}\"); h.SetDirectory(0)\n",
    "                    rate = h.Integral()\n",
    "                    data[s] = rate\n",
    "                except:\n",
    "                    logging.warning(f\"Failed to extract {s} for {sample}\")\n",
    "                    data[s] = None\n",
    "    f.Close()\n",
    "    \n",
    "    return data\n",
    "\n",
    "def save_data_to_json(data, output_file):\n",
    "    with open(output_file, \"w\") as f:\n",
    "        json.dump(data, f, indent=4)\n",
    "        \n",
    "def get_value(df, sample_name, syst):\n",
    "    return df.filter(like=sample_name, axis=1)[f\"{sample_name}.{syst}\"].values[0]\n",
    "\n",
    "def estimate_total_err(df, sample_name):\n",
    "    try:\n",
    "        central = get_value(df, sample_name, \"Central\")\n",
    "        total = pow(get_value(df, sample_name, \"Stat\"), 2)\n",
    "    except:\n",
    "        logging.warning(f\"Failed to estimate total error for {sample_name}\")\n",
    "        return None\n",
    "    \n",
    "    for syst in SYSTs:\n",
    "        syst_up = abs(get_value(df, sample_name, syst[0]) - central)\n",
    "        syst_down = abs(get_value(df, sample_name, syst[1]) - central)\n",
    "        total += pow(max(syst_up, syst_down), 2)\n",
    "    \n",
    "    return sqrt(total)"
   ]
  },
  {
   "cell_type": "code",
   "execution_count": 110,
   "metadata": {},
   "outputs": [
    {
     "name": "stderr",
     "output_type": "stream",
     "text": [
      "WARNING:root:Failed to extract Central for DYJets10to50_MG\n",
      "WARNING:root:Failed to extract L1PrefireUp for DYJets10to50_MG\n",
      "WARNING:root:Failed to extract L1PrefireDown for DYJets10to50_MG\n",
      "WARNING:root:Failed to extract PileupReweightUp for DYJets10to50_MG\n",
      "WARNING:root:Failed to extract PileupReweightDown for DYJets10to50_MG\n",
      "WARNING:root:Failed to extract MuonIDSFUp for DYJets10to50_MG\n",
      "WARNING:root:Failed to extract MuonIDSFDown for DYJets10to50_MG\n",
      "WARNING:root:Failed to extract ElectronIDSFUp for DYJets10to50_MG\n",
      "WARNING:root:Failed to extract ElectronIDSFDown for DYJets10to50_MG\n",
      "WARNING:root:Failed to extract EMuTrigSFUp for DYJets10to50_MG\n",
      "WARNING:root:Failed to extract EMuTrigSFDown for DYJets10to50_MG\n",
      "WARNING:root:Failed to extract JetResUp for DYJets10to50_MG\n",
      "WARNING:root:Failed to extract JetResDown for DYJets10to50_MG\n",
      "WARNING:root:Failed to extract JetEnUp for DYJets10to50_MG\n",
      "WARNING:root:Failed to extract JetEnDown for DYJets10to50_MG\n",
      "WARNING:root:Failed to extract ElectronResUp for DYJets10to50_MG\n",
      "WARNING:root:Failed to extract ElectronResDown for DYJets10to50_MG\n",
      "WARNING:root:Failed to extract ElectronEnUp for DYJets10to50_MG\n",
      "WARNING:root:Failed to extract ElectronEnDown for DYJets10to50_MG\n",
      "WARNING:root:Failed to extract MuonEnUp for DYJets10to50_MG\n",
      "WARNING:root:Failed to extract MuonEnDown for DYJets10to50_MG\n"
     ]
    }
   ],
   "source": [
    "data = {}\n",
    "data[DATASTREAM] = extract_data_from_hist(DATASTREAM)\n",
    "data[\"nonprompt\"] = extract_data_from_hist(\"nonprompt\")\n",
    "for sample in MCLists:\n",
    "    data[sample] = extract_data_from_hist(sample)\n",
    "json_output_path = f\"{WORKDIR}/MeasConversion/results/{ERA}/json/{CHANNEL}.json\"\n",
    "os.makedirs(os.path.dirname(json_output_path), exist_ok=True)\n",
    "save_data_to_json(data, json_output_path)"
   ]
  },
  {
   "cell_type": "code",
   "execution_count": 111,
   "metadata": {},
   "outputs": [
    {
     "name": "stderr",
     "output_type": "stream",
     "text": [
      "WARNING:root:Failed to extract DYJets10to50_MG\n",
      "Warning in <TROOT::Append>: Replacing existing TH1: RatesWithError (Potential memory leak).\n"
     ]
    }
   ],
   "source": [
    "# Relod json and make flatten dataframe\n",
    "with open(json_output_path, \"r\") as f:\n",
    "    data = json.load(f)\n",
    "df = pd.json_normalize(data)\n",
    "\n",
    "# Estimate Conversion SF\n",
    "RatesWithError = ROOT.TH1D(\"RatesWithError\", \"RatesWithError\", 6, 0, 6)\n",
    "\n",
    "# DATA\n",
    "RatesWithError.GetXaxis().SetBinLabel(1, \"DATA\")\n",
    "RatesWithError.SetBinContent(1, df.loc[0, f\"{DATASTREAM}.Central\"])\n",
    "RatesWithError.SetBinError(1, df.loc[0, f\"{DATASTREAM}.Stat\"])\n",
    "\n",
    "# Nonprompt\n",
    "RatesWithError.GetXaxis().SetBinLabel(2, \"nonprompt\")\n",
    "RatesWithError.SetBinContent(2, df.loc[0, \"nonprompt.Central\"])\n",
    "err = sqrt(pow(df.loc[0, \"nonprompt.Stat\"], 2) + pow(df.loc[0, \"nonprompt.Central\"]*0.3, 2))\n",
    "RatesWithError.SetBinError(2, err)\n",
    "\n",
    "# Conversion\n",
    "rate_conv = 0\n",
    "err_conv = 0\n",
    "for sample in CONV:\n",
    "    try:\n",
    "        rate_conv += df.loc[0, f\"{sample}.Central\"]\n",
    "        err_conv += estimate_total_err(df, sample)\n",
    "    except:\n",
    "        logging.warning(f\"Failed to extract {sample}\")\n",
    "RatesWithError.GetXaxis().SetBinLabel(3, \"Conversion\")\n",
    "RatesWithError.SetBinContent(3, rate_conv)\n",
    "RatesWithError.SetBinError(3, err_conv)\n",
    "\n",
    "# Prompt backgrounds\n",
    "# Diboson\n",
    "rate_diboson = 0\n",
    "err_diboson = 0\n",
    "for sample in DIBOSON:\n",
    "    rate_diboson += df.loc[0, f\"{sample}.Central\"]\n",
    "    err_diboson += estimate_total_err(df, sample)\n",
    "RatesWithError.GetXaxis().SetBinLabel(4, \"VV\")\n",
    "RatesWithError.SetBinContent(4, rate_diboson)\n",
    "RatesWithError.SetBinError(4, err_diboson)\n",
    "\n",
    "# ttX\n",
    "rate_ttX = 0\n",
    "err_ttX = 0\n",
    "for sample in TTX:\n",
    "    rate_ttX += df.loc[0, f\"{sample}.Central\"]\n",
    "    err_ttX += estimate_total_err(df, sample)\n",
    "RatesWithError.GetXaxis().SetBinLabel(5, \"ttX\")\n",
    "RatesWithError.SetBinContent(5, rate_ttX)\n",
    "RatesWithError.SetBinError(5, err_ttX)\n",
    "\n",
    "# rare\n",
    "rate_rare = 0\n",
    "err_rare = 0\n",
    "for sample in RARE:\n",
    "    try:\n",
    "        rate_rare += df.loc[0, f\"{sample}.Central\"]\n",
    "        err_rare += estimate_total_err(df, sample)\n",
    "    except:\n",
    "        logging.warning(f\"Failed to extract {sample}\")\n",
    "RatesWithError.GetXaxis().SetBinLabel(6, \"rare\")\n",
    "RatesWithError.SetBinContent(6, rate_rare)\n",
    "RatesWithError.SetBinError(6, err_rare)"
   ]
  },
  {
   "cell_type": "code",
   "execution_count": 112,
   "metadata": {},
   "outputs": [],
   "source": [
    "RatesWithError.SetStats(0)\n",
    "RatesWithError.SetTitle(f\"{ERA}-{REGION}\")\n",
    "RatesWithError.SetMarkerStyle(20)\n",
    "RatesWithError.SetLineColor(ROOT.kBlack)\n",
    "\n",
    "# rotate x-axis labels\n",
    "RatesWithError.GetXaxis().SetLabelSize(0.04)\n",
    "RatesWithError.GetXaxis().SetLabelFont(42)"
   ]
  },
  {
   "cell_type": "code",
   "execution_count": 113,
   "metadata": {},
   "outputs": [
    {
     "data": {
      "image/png": "[encoded data removed]",
      "text/plain": [
       "<IPython.core.display.Image object>"
      ]
     },
     "metadata": {},
     "output_type": "display_data"
    }
   ],
   "source": [
    "c = ROOT.TCanvas(\"\", \"\", 700, 800)\n",
    "c.cd()\n",
    "RatesWithError.Draw()\n",
    "c.RedrawAxis()\n",
    "c.Draw()"
   ]
  },
  {
   "cell_type": "code",
   "execution_count": 114,
   "metadata": {},
   "outputs": [
    {
     "name": "stdout",
     "output_type": "stream",
     "text": [
      "0.6896867955935336 0.14404872542264927 0.2088610748284418\n"
     ]
    }
   ],
   "source": [
    "# Now measure the conversion SF\n",
    "rate_data = RatesWithError.GetBinContent(1)\n",
    "rate_conv = RatesWithError.GetBinContent(3)\n",
    "rate_pred = RatesWithError.GetBinContent(2) + RatesWithError.GetBinContent(4) + RatesWithError.GetBinContent(5) + RatesWithError.GetBinContent(6)\n",
    "\n",
    "dsf_ddata = 1 / rate_conv\n",
    "dsf_dconv = - (rate_data - rate_pred) / pow(rate_conv, 2)\n",
    "dsf_dpred = -1 / rate_conv\n",
    "\n",
    "sf = (rate_data - rate_pred) / rate_conv\n",
    "sf_err = sqrt(pow(dsf_ddata*RatesWithError.GetBinError(1), 2) + pow(dsf_dconv*RatesWithError.GetBinError(3), 2) + pow(dsf_dpred*(RatesWithError.GetBinError(2) + RatesWithError.GetBinError(4) + RatesWithError.GetBinError(5) + RatesWithError.GetBinError(6)), 2))\n",
    "\n",
    "print(sf, sf_err, sf_err/sf)"
   ]
  },
  {
   "cell_type": "code",
   "execution_count": null,
   "metadata": {},
   "outputs": [],
   "source": []
  },
  {
   "cell_type": "code",
   "execution_count": null,
   "metadata": {},
   "outputs": [],
   "source": []
  }
 ],
 "metadata": {
  "kernelspec": {
   "display_name": "pyg",
   "language": "python",
   "name": "python3"
  },
  "language_info": {
   "codemirror_mode": {
    "name": "ipython",
    "version": 3
   },
   "file_extension": ".py",
   "mimetype": "text/x-python",
   "name": "python",
   "nbconvert_exporter": "python",
   "pygments_lexer": "ipython3",
   "version": "3.11.9"
  }
 },
 "nbformat": 4,
 "nbformat_minor": 2
}
