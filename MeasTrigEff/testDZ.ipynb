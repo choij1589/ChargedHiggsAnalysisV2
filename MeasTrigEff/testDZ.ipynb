{
 "cells": [
  {
   "cell_type": "code",
   "execution_count": 1,
   "metadata": {},
   "outputs": [
    {
     "name": "stdout",
     "output_type": "stream",
     "text": [
      "Welcome to JupyROOT 6.30/04\n"
     ]
    }
   ],
   "source": [
    "import ROOT"
   ]
  },
  {
   "cell_type": "code",
   "execution_count": 56,
   "metadata": {},
   "outputs": [],
   "source": [
    "WORKDIR = \"/home/choij/ChargedHiggsAnalysisV2\"\n",
    "ERA = \"2017\""
   ]
  },
  {
   "cell_type": "code",
   "execution_count": 59,
   "metadata": {},
   "outputs": [],
   "source": [
    "f = ROOT.TFile.Open(f\"{WORKDIR}/SKFlatOutput/MeasTrigEff/{ERA}/MeasDblMuDZ__/DATA/MeasTrigEff_DoubleMuon_C.root\")"
   ]
  },
  {
   "cell_type": "code",
   "execution_count": 64,
   "metadata": {},
   "outputs": [
    {
     "name": "stdout",
     "output_type": "stream",
     "text": [
      "0.134599671035178\n"
     ]
    }
   ],
   "source": [
    "# Meas DZ Efficiency\n",
    "num = f.Get(\"TrigEff_IsoDZ_ZWin60\"); num.SetDirectory(0)\n",
    "denom = f.Get(\"TrigEff_Iso_ZWin60\"); denom.SetDirectory(0)\n",
    "\n",
    "print(num.Integral() / denom.Integral())"
   ]
  },
  {
   "cell_type": "code",
   "execution_count": null,
   "metadata": {},
   "outputs": [],
   "source": []
  },
  {
   "cell_type": "code",
   "execution_count": null,
   "metadata": {},
   "outputs": [],
   "source": []
  }
 ],
 "metadata": {
  "kernelspec": {
   "display_name": "pyg",
   "language": "python",
   "name": "python3"
  },
  "language_info": {
   "codemirror_mode": {
    "name": "ipython",
    "version": 3
   },
   "file_extension": ".py",
   "mimetype": "text/x-python",
   "name": "python",
   "nbconvert_exporter": "python",
   "pygments_lexer": "ipython3",
   "version": "3.11.9"
  }
 },
 "nbformat": 4,
 "nbformat_minor": 2
}
