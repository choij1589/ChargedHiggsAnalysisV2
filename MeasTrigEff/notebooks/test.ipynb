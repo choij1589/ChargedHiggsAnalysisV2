{
 "cells": [
  {
   "cell_type": "code",
   "execution_count": 1,
   "metadata": {},
   "outputs": [
    {
     "name": "stdout",
     "output_type": "stream",
     "text": [
      "Welcome to JupyROOT 6.30/04\n"
     ]
    }
   ],
   "source": [
    "import ROOT"
   ]
  },
  {
   "cell_type": "code",
   "execution_count": 102,
   "metadata": {},
   "outputs": [],
   "source": [
    "ERA = \"2016postVFP\"\n",
    "CHANNEL = \"Skim1E2Mu\"\n",
    "#PROCESS = \"MHc-130_MA-90\"\n",
    "PROCESS = \"WZTo3LNu_amcatnlo\"\n",
    "\n",
    "WORKDIR = \"/home/choij/workspace/ChargedHiggsAnalysisV2\"\n",
    "if \"Run\" in CHANNEL:\n",
    "    SKFlatOutput = f\"{WORKDIR}/SKFlatOutput/Run2UltraLegacy_v3/ClosDiLepTrigs/{ERA}/{CHANNEL}__\"\n",
    "elif \"Skim\" in CHANNEL:\n",
    "    SKFlatOutput = f\"{WORKDIR}/SKFlatOutput/Run2UltraLegacy_v3/ClosTriLepTrigs/{ERA}/{CHANNEL}__\"\n",
    "else:\n",
    "    raise ValueError(f\"Unknown CHANNEL: {CHANNEL}\")"
   ]
  },
  {
   "cell_type": "code",
   "execution_count": 103,
   "metadata": {},
   "outputs": [],
   "source": [
    "f = ROOT.TFile.Open(f\"{SKFlatOutput}/ClosTriLepTrigs_{PROCESS}.root\")\n",
    "h = f.Get(\"sumweight\"); h.SetDirectory(0); f.Close()"
   ]
  },
  {
   "cell_type": "code",
   "execution_count": 104,
   "metadata": {},
   "outputs": [
    {
     "name": "stdout",
     "output_type": "stream",
     "text": [
      "expected: 0.955 + 0.015 - 0.016\n",
      "observed: 0.950\n",
      "difference: -0.006\n"
     ]
    }
   ],
   "source": [
    "# 1: event before trigger\n",
    "# 2: central\n",
    "# 3: up\n",
    "# 4: down\n",
    "# 5: event pass trigger\n",
    "\n",
    "central = h.GetBinContent(2) / h.GetBinContent(1)\n",
    "up = h.GetBinContent(3) / h.GetBinContent(1)\n",
    "down = h.GetBinContent(4) / h.GetBinContent(1)\n",
    "observed = h.GetBinContent(5) / h.GetBinContent(1)\n",
    "\n",
    "print(f\"expected: {central:.3f} + {up-central:.3f} - {central-down:.3f}\")\n",
    "print(f\"observed: {observed:.3f}\")\n",
    "print(f\"difference: {(observed-central)/central:.3f}\")"
   ]
  },
  {
   "cell_type": "code",
   "execution_count": null,
   "metadata": {},
   "outputs": [],
   "source": []
  }
 ],
 "metadata": {
  "kernelspec": {
   "display_name": "pyg",
   "language": "python",
   "name": "python3"
  },
  "language_info": {
   "codemirror_mode": {
    "name": "ipython",
    "version": 3
   },
   "file_extension": ".py",
   "mimetype": "text/x-python",
   "name": "python",
   "nbconvert_exporter": "python",
   "pygments_lexer": "ipython3",
   "version": "3.11.10"
  }
 },
 "nbformat": 4,
 "nbformat_minor": 2
}
