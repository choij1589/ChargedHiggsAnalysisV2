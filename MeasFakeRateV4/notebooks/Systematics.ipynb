{
 "cells": [
  {
   "cell_type": "code",
   "execution_count": 1,
   "metadata": {},
   "outputs": [
    {
     "name": "stdout",
     "output_type": "stream",
     "text": [
      "Welcome to JupyROOT 6.30/04\n"
     ]
    }
   ],
   "source": [
    "import ROOT"
   ]
  },
  {
   "cell_type": "code",
   "execution_count": 122,
   "metadata": {},
   "outputs": [],
   "source": [
    "ERA = \"2018\"\n",
    "MEASURE = \"electron\"\n",
    "ETABIN = \"EE\""
   ]
  },
  {
   "cell_type": "code",
   "execution_count": 123,
   "metadata": {},
   "outputs": [],
   "source": [
    "ptcorr_bins = []\n",
    "abseta_bins = []\n",
    "if MEASURE == \"muon\":\n",
    "    ptcorr_bins = [10., 15., 20., 30., 50., 100.]\n",
    "    abseta_bins = [0., 0.9, 1.6, 2.4]\n",
    "elif MEASURE == \"electron\":\n",
    "    ptcorr_bins = [10., 15., 20., 25., 35., 50., 100.]\n",
    "    abseta_bins = [0., 0.8, 1.479, 2.5]\n",
    "else:\n",
    "    raise NameError(f\"Wrong measure {MEASURE}\")\n",
    "\n",
    "eta_idx = -1\n",
    "if ETABIN == \"EB1\": \n",
    "    eta_idx = 1\n",
    "elif ETABIN == \"EB2\":\n",
    "    eta_idx = 2\n",
    "elif ETABIN == \"EE\":\n",
    "    eta_idx = 3\n",
    "else:\n",
    "    raise NameError(f\"Wrong eta bin {ETABIN}\")"
   ]
  },
  {
   "cell_type": "code",
   "execution_count": 124,
   "metadata": {},
   "outputs": [
    {
     "name": "stderr",
     "output_type": "stream",
     "text": [
      "Warning in <TCanvas::Constructor>: Deleting canvas with same name: c\n"
     ]
    }
   ],
   "source": [
    "# prepare canvas and legend\n",
    "canvas = ROOT.TCanvas(\"c\", \"\", 1600, 1200)\n",
    "canvas.SetLeftMargin(0.1)\n",
    "canvas.SetRightMargin(0.08)\n",
    "canvas.SetTopMargin(0.1)\n",
    "canvas.SetBottomMargin(0.12)\n",
    "\n",
    "legend = ROOT.TLegend(0.67, 0.65, 0.9, 0.85)\n",
    "legend.SetFillStyle(0)\n",
    "legend.SetBorderSize(0)"
   ]
  },
  {
   "cell_type": "code",
   "execution_count": 125,
   "metadata": {},
   "outputs": [],
   "source": [
    "def setInfoTo(text: ROOT.TLatex):\n",
    "    text.SetTextSize(0.035)\n",
    "    text.SetTextFont(42)\n",
    "\n",
    "def setLogoTo(text: ROOT.TLatex):\n",
    "    text.SetTextSize(0.04)\n",
    "    text.SetTextFont(61)\n",
    "    \n",
    "def setWorkInProgressTo(text: ROOT.TLatex):\n",
    "    text.SetTextSize(0.035)\n",
    "    text.SetTextFont(52)\n",
    "    \n",
    "def setExtraInfoTo(text: ROOT.TLatex):\n",
    "    text.SetTextSize(0.05)\n",
    "    text.SetTextFont(42)"
   ]
  },
  {
   "cell_type": "code",
   "execution_count": 126,
   "metadata": {},
   "outputs": [],
   "source": [
    "file_path = f\"../results/{ERA}/ROOT/{MEASURE}/fakerate.root\"\n",
    "f = ROOT.TFile.Open(file_path)\n",
    "h = f.Get(\"fake rate - (Central)\"); h.SetDirectory(0)\n",
    "h_prUp = f.Get(\"fake rate - (PromptNormUp)\"); h_prUp.SetDirectory(0)\n",
    "h_prDown = f.Get(\"fake rate - (PromptNormDown)\"); h_prDown.SetDirectory(0)\n",
    "h_jetUp = f.Get(\"fake rate - (MotherJetPtUp)\"); h_jetUp.SetDirectory(0)\n",
    "h_jetDown = f.Get(\"fake rate - (MotherJetPtDown)\"); h_jetDown.SetDirectory(0)\n",
    "h_btag = f.Get(\"fake rate - (RequireHeavyTag)\"); h_btag.SetDirectory(0)\n",
    "f.Close()"
   ]
  },
  {
   "cell_type": "code",
   "execution_count": 127,
   "metadata": {},
   "outputs": [],
   "source": [
    "h_proj_central = h.ProjectionY(\"central\", eta_idx, eta_idx)\n",
    "h_proj_prUp = h_prUp.ProjectionY(\"prUp\", eta_idx, eta_idx)\n",
    "h_proj_prDown = h_prDown.ProjectionY(\"prDown\", eta_idx, eta_idx)\n",
    "h_proj_jetUp = h_jetUp.ProjectionY(\"jetUp\", eta_idx, eta_idx)\n",
    "h_proj_jetDown = h_jetDown.ProjectionY(\"jetDown\", eta_idx, eta_idx)\n",
    "h_proj_btag = h_btag.ProjectionY(\"btag\", eta_idx, eta_idx)"
   ]
  },
  {
   "cell_type": "code",
   "execution_count": 128,
   "metadata": {},
   "outputs": [],
   "source": [
    "# make ratio plots for each systematic sources\n",
    "ratio_total = h_proj_central.Clone(\"total\")\n",
    "for bin in range(1, ratio_total.GetNbinsX()+1):\n",
    "    error = ratio_total.GetBinError(bin) / ratio_total.GetBinContent(bin)\n",
    "    ratio_total.SetBinContent(bin, 0.)\n",
    "    ratio_total.SetBinError(bin, error)\n",
    "    \n",
    "# promptNorm\n",
    "ratio_prUp = h_proj_central.Clone(\"PromptNormUp\")\n",
    "for bin in range(1, ratio_prUp.GetNbinsX()+1):\n",
    "    content = (h_proj_prUp.GetBinContent(bin) - h_proj_central.GetBinContent(bin))/h_proj_central.GetBinContent(bin)\n",
    "    ratio_prUp.SetBinContent(bin, content)\n",
    "\n",
    "# promptNormDown\n",
    "ratio_prDown = h_proj_central.Clone(\"PromptNormDown\")\n",
    "for bin in range(1, ratio_prDown.GetNbinsX()+1):\n",
    "    content = (h_proj_prDown.GetBinContent(bin) - h_proj_central.GetBinContent(bin))/h_proj_central.GetBinContent(bin)\n",
    "    ratio_prDown.SetBinContent(bin, content)\n",
    "    \n",
    "# JetPtUp\n",
    "ratio_jetUp = h_proj_central.Clone(\"MotherJetPtUp\")\n",
    "for bin in range(1, ratio_jetUp.GetNbinsX()+1):\n",
    "    content = (h_proj_jetUp.GetBinContent(bin) - h_proj_central.GetBinContent(bin))/h_proj_central.GetBinContent(bin)\n",
    "    ratio_jetUp.SetBinContent(bin, content)\n",
    "    \n",
    "# JetPtDown\n",
    "ratio_jetDown = h_proj_central.Clone(\"MotherJetPtDown\")\n",
    "for bin in range(1, ratio_jetDown.GetNbinsX()+1):\n",
    "    content = (h_proj_jetDown.GetBinContent(bin) - h_proj_central.GetBinContent(bin))/h_proj_central.GetBinContent(bin)\n",
    "    ratio_jetDown.SetBinContent(bin, content)\n",
    "    \n",
    "# RequireHeavyTag\n",
    "ratio_btag = h_proj_central.Clone(\"RequireHeavyTag\")\n",
    "for bin in range(1, ratio_btag.GetNbinsX()+1):\n",
    "    content = (h_proj_btag.GetBinContent(bin) - h_proj_central.GetBinContent(bin))/h_proj_central.GetBinContent(bin)\n",
    "    ratio_btag.SetBinContent(bin, content)"
   ]
  },
  {
   "cell_type": "code",
   "execution_count": 129,
   "metadata": {},
   "outputs": [],
   "source": [
    "# set up ratios\n",
    "ratio_total.SetStats(0)\n",
    "ratio_total.SetLineColor(ROOT.kBlack)\n",
    "ratio_total.GetXaxis().SetTitle(\"p_{T}^{corr}\")\n",
    "ratio_total.GetXaxis().SetRangeUser(15., 50.)\n",
    "ratio_total.GetYaxis().SetTitle(\"#Delta fr / fr\")\n",
    "ratio_total.GetYaxis().CenterTitle()\n",
    "ratio_total.GetYaxis().SetRangeUser(-1.5, 1.5)\n",
    "\n",
    "ratio_prUp.SetMarkerStyle(8)\n",
    "ratio_prUp.SetMarkerSize(2)\n",
    "ratio_prUp.SetMarkerColor(ROOT.kGreen)\n",
    "ratio_prDown.SetMarkerStyle(8)\n",
    "ratio_prDown.SetMarkerSize(2)\n",
    "ratio_prDown.SetMarkerColor(ROOT.kGreen)\n",
    "\n",
    "ratio_jetUp.SetMarkerStyle(8)\n",
    "ratio_jetUp.SetMarkerSize(2)\n",
    "ratio_jetUp.SetMarkerColor(ROOT.kBlue)\n",
    "ratio_jetDown.SetMarkerStyle(8)\n",
    "ratio_jetDown.SetMarkerSize(2)\n",
    "ratio_jetDown.SetMarkerColor(ROOT.kBlue)\n",
    "\n",
    "ratio_btag.SetMarkerStyle(8)\n",
    "ratio_btag.SetMarkerSize(2)\n",
    "ratio_btag.SetMarkerColor(ROOT.kBlack)"
   ]
  },
  {
   "cell_type": "code",
   "execution_count": 130,
   "metadata": {},
   "outputs": [
    {
     "data": {
      "text/plain": [
       "<cppyy.gbl.TLegendEntry object at 0x563906922e40>"
      ]
     },
     "execution_count": 130,
     "metadata": {},
     "output_type": "execute_result"
    }
   ],
   "source": [
    "# add to legend\n",
    "legend.AddEntry(ratio_prUp, \"PromptNorm\", \"p\")\n",
    "legend.AddEntry(ratio_jetUp, \"MotherJetPt\", \"p\")\n",
    "legend.AddEntry(ratio_btag, \"RequireHeavyTag\", \"p\")\n",
    "#legend.AddEntry(ratio_total, \"Total\", \"f\")"
   ]
  },
  {
   "cell_type": "code",
   "execution_count": 131,
   "metadata": {},
   "outputs": [
    {
     "data": {
      "image/png": "[encoded data removed]",
      "text/plain": [
       "<IPython.core.display.Image object>"
      ]
     },
     "metadata": {},
     "output_type": "display_data"
    }
   ],
   "source": [
    "canvas.cd()\n",
    "canvas.SetGridy(True)\n",
    "ratio_total.SetTitle(\"\")\n",
    "ratio_total.Draw(\"hist\")\n",
    "ratio_prUp.Draw(\"p&hist&same\")\n",
    "ratio_prDown.Draw(\"p&hist&same\")\n",
    "ratio_jetUp.Draw(\"p&hist&same\")\n",
    "ratio_jetDown.Draw(\"p&hist&same\")\n",
    "ratio_btag.Draw(\"p&hist&same\")\n",
    "legend.Draw(\"same\")\n",
    "\n",
    "text = ROOT.TLatex()\n",
    "setInfoTo(text); text.DrawLatexNDC(0.835, 0.91, \"(13TeV)\")\n",
    "setLogoTo(text); text.DrawLatexNDC(0.1, 0.91, \"CMS\")\n",
    "setWorkInProgressTo(text); text.DrawLatexNDC(0.18, 0.91, \"Work in progress\")\n",
    "setExtraInfoTo(text); text.DrawLatexNDC(0.15, 0.80, f\"{abseta_bins[eta_idx-1]} < |#eta| < {abseta_bins[eta_idx]}\")\n",
    "\n",
    "canvas.Draw()"
   ]
  },
  {
   "cell_type": "code",
   "execution_count": null,
   "metadata": {},
   "outputs": [],
   "source": []
  }
 ],
 "metadata": {
  "kernelspec": {
   "display_name": "pyg",
   "language": "python",
   "name": "python3"
  },
  "language_info": {
   "codemirror_mode": {
    "name": "ipython",
    "version": 3
   },
   "file_extension": ".py",
   "mimetype": "text/x-python",
   "name": "python",
   "nbconvert_exporter": "python",
   "pygments_lexer": "ipython3",
   "version": "3.1.undefined"
  }
 },
 "nbformat": 4,
 "nbformat_minor": 2
}
