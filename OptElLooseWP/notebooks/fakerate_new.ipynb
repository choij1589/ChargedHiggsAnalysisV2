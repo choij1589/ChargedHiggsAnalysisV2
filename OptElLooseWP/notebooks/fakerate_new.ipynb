{
 "cells": [
  {
   "cell_type": "code",
   "execution_count": 1,
   "metadata": {},
   "outputs": [
    {
     "name": "stdout",
     "output_type": "stream",
     "text": [
      "Welcome to JupyROOT 6.30/04\n"
     ]
    }
   ],
   "source": [
    "import ROOT"
   ]
  },
  {
   "cell_type": "code",
   "execution_count": 2,
   "metadata": {},
   "outputs": [],
   "source": [
    "ERA = \"2016postVFP\"\n",
    "REGION = \"EB2\""
   ]
  },
  {
   "cell_type": "code",
   "execution_count": 7,
   "metadata": {},
   "outputs": [],
   "source": [
    "class Electron:\n",
    "    def __init__(self, era, region):\n",
    "        self.pt = -999.\n",
    "        self.scEta = -999.\n",
    "        self.mvaNoIso = -999.\n",
    "        self.miniRelIso = -999.\n",
    "        self.sip3d = -999\n",
    "        self.deltaR = -999.\n",
    "        self.passMVANoIsoWP90 = False\n",
    "        self.passMVANoIsoWPLoose = False\n",
    "        self.nearestJetFlavour = -999\n",
    "        self.genWeight = -999.\n",
    "        self.region = region\n",
    "        \n",
    "        self.mvacut = -999.\n",
    "        if era == \"2016preVFP\":\n",
    "            if region == \"EB1\":   self.mvacut = 0.985\n",
    "            elif region == \"EB2\": self.mvacut = 0.98\n",
    "            else:                 self.mvacut = 0.75\n",
    "        elif era == \"2016postVFP\":\n",
    "            if region == \"EB1\":   self.mvacut = 0.985\n",
    "            elif region == \"EB2\": self.mvacut = 0.98\n",
    "            else:                 self.mvacut = 0.75\n",
    "        elif era == \"2017\":\n",
    "            if region == \"EB1\":   self.mvacut = 0.985\n",
    "            elif region == \"EB2\": self.mvacut = 0.96\n",
    "            else:                 self.mvacut = 0.85\n",
    "        elif era == \"2018\":\n",
    "            if region == \"EB1\":   self.mvacut = 0.985\n",
    "            elif region == \"EB2\": self.mvacut = 0.96\n",
    "            else:                 self.mvacut = 0.85\n",
    "        else:\n",
    "            raise ValueError(\"Invalid era\")\n",
    "    \n",
    "    def setPt(self, pt):\n",
    "        self.pt = pt\n",
    "    \n",
    "    def setPtCorr(self):\n",
    "        self.ptCorr = self.pt*(1.0 + max(0., self.miniRelIso-0.1))\n",
    "        \n",
    "    def setScEta(self, scEta):\n",
    "        self.scEta = scEta\n",
    "        \n",
    "    def setMVANoIso(self, mvaNoIso):\n",
    "        self.mvaNoIso = mvaNoIso\n",
    "    \n",
    "    def setMiniRelIso(self, miniRelIso):\n",
    "        self.miniRelIso = miniRelIso\n",
    "    \n",
    "    def setSIP3D(self, sip3d):\n",
    "        self.sip3d = sip3d\n",
    "        \n",
    "    def setDeltaR(self, deltaR):\n",
    "        self.deltaR = deltaR\n",
    "        \n",
    "    def setID(self, passMVANoIsoWP90, passMVANoIsoWPLoose):\n",
    "        self.passMVANoIsoWP90 = passMVANoIsoWP90\n",
    "        self.passMVANoIsoWPLoose = passMVANoIsoWPLoose\n",
    "        \n",
    "    def setNearestJetFlavour(self, nearestJetFlavour):\n",
    "        self.nearestJetFlavour = nearestJetFlavour\n",
    "        \n",
    "    # Only required HcToWA Veto ID while skimming\n",
    "    def passLooseID(self):\n",
    "        if not (self.mvaNoIso > self.mvacut or self.passMVANoIsoWP90): return False\n",
    "        if not self.miniRelIso < 0.4: return False\n",
    "        if not self.sip3d < 8: return False\n",
    "        return True\n",
    "        \n",
    "    def passTightID(self):\n",
    "        if not self.passMVANoIsoWP90: return False\n",
    "        if not self.miniRelIso < 0.1: return False\n",
    "        if not self.sip3d < 4: return False\n",
    "        return True\n",
    "    \n",
    "    def is_valid_region(self):\n",
    "        if self.region == \"EB1\":\n",
    "            return abs(self.scEta) < 0.8\n",
    "        elif self.region == \"EB2\":\n",
    "            return abs(self.scEta) > 0.8 and abs(self.scEta) < 1.479\n",
    "        elif self.region == \"EE\":\n",
    "            return abs(self.scEta) > 1.479 and abs(self.scEta) < 2.5\n",
    "        else:\n",
    "            raise ValueError(f\"Region {self.region} is not valid\")"
   ]
  },
  {
   "cell_type": "code",
   "execution_count": 8,
   "metadata": {},
   "outputs": [],
   "source": [
    "h_ljet_loose = ROOT.TH1F(\"ljet_loose\", \"\", 28, 10, 150); h_ljet_loose.SetDirectory(0)\n",
    "h_cjet_loose = ROOT.TH1F(\"cjet_loose\", \"\", 28, 10, 150); h_cjet_loose.SetDirectory(0)\n",
    "h_bjet_loose = ROOT.TH1F(\"bjet_loose\", \"\", 28, 10, 150); h_bjet_loose.SetDirectory(0)\n",
    "\n",
    "h_ljet_tight = ROOT.TH1F(\"ljet_tight\", \"\", 28, 10, 150); h_ljet_tight.SetDirectory(0)\n",
    "h_cjet_tight = ROOT.TH1F(\"cjet_tight\", \"\", 28, 10, 150); h_cjet_tight.SetDirectory(0)\n",
    "h_bjet_tight = ROOT.TH1F(\"bjet_tight\", \"\", 28, 10, 150); h_bjet_tight.SetDirectory(0)\n",
    "\n",
    "f = ROOT.TFile.Open(f\"/home/choij/workspace/ChargedHiggsAnalysisV2/SKFlatOutput/OptElLooseWP/{ERA}/OptElLooseWP_TTLL_powheg.root\")\n",
    "for evt in f.Events:\n",
    "    electrons = []\n",
    "    genWeight = evt.genWeight\n",
    "    for i in range(evt.nElectrons):\n",
    "        el = Electron(ERA, REGION)\n",
    "        el.setPt(evt.Pt[i])\n",
    "        el.setScEta(evt.scEta[i])\n",
    "        el.setMVANoIso(evt.MVANoIso[i])\n",
    "        el.setMiniRelIso(evt.MiniRelIso[i])\n",
    "        el.setSIP3D(evt.SIP3D[i])\n",
    "        el.setDeltaR(evt.DeltaR[i])\n",
    "        el.setID(evt.PassMVANoIsoWP90[i], evt.PassMVANoIsoWPLoose[i])\n",
    "        el.setNearestJetFlavour(evt.NearestJetFlavour[i])\n",
    "        el.setPtCorr()\n",
    "        if not el.is_valid_region(): continue\n",
    "        electrons.append(el)\n",
    "    \n",
    "    for el in electrons:\n",
    "        if el.deltaR > 0.4: continue\n",
    "        if not el.passLooseID(): continue\n",
    "        \n",
    "        if el.nearestJetFlavour == 1:\n",
    "            h_ljet_loose.Fill(el.ptCorr, genWeight)\n",
    "            if el.passTightID(): h_ljet_tight.Fill(el.ptCorr, genWeight)\n",
    "        elif el.nearestJetFlavour == 4:\n",
    "            h_cjet_loose.Fill(el.ptCorr, genWeight)\n",
    "            if el.passTightID(): h_cjet_tight.Fill(el.ptCorr, genWeight)\n",
    "        elif el.nearestJetFlavour == 5:\n",
    "            h_bjet_loose.Fill(el.ptCorr, genWeight)\n",
    "            if el.passTightID(): h_bjet_tight.Fill(el.ptCorr, genWeight)\n",
    "        else:\n",
    "            continue\n",
    "f.Close()"
   ]
  },
  {
   "cell_type": "code",
   "execution_count": 9,
   "metadata": {},
   "outputs": [],
   "source": [
    "# calculate fake rate\n",
    "fake_ljet = h_ljet_tight.Clone(\"fake_ljet\"); fake_ljet.Divide(h_ljet_loose)\n",
    "fake_cjet = h_cjet_tight.Clone(\"fake_cjet\"); fake_cjet.Divide(h_cjet_loose)\n",
    "fake_bjet = h_bjet_tight.Clone(\"fake_bjet\"); fake_bjet.Divide(h_bjet_loose)\n",
    "\n",
    "fake_ljet.SetStats(0)\n",
    "fake_ljet.SetLineColor(ROOT.kBlack)\n",
    "fake_ljet.SetLineWidth(2)\n",
    "fake_ljet.GetXaxis().SetRangeUser(10., 100.)\n",
    "fake_ljet.GetYaxis().SetRangeUser(0.01, 1.)\n",
    "\n",
    "fake_cjet.SetStats(0)\n",
    "fake_cjet.SetLineColor(ROOT.kGreen)\n",
    "fake_cjet.SetLineWidth(2)\n",
    "\n",
    "fake_bjet.SetStats(0)\n",
    "fake_bjet.SetLineColor(ROOT.kBlue)\n",
    "fake_bjet.SetLineWidth(2)\n",
    "\n",
    "# Set 30% systematics in light fake rate\n",
    "for bin in range(0, fake_ljet.GetNbinsX()+1):\n",
    "    fake_ljet.SetBinError(bin, fake_ljet.GetBinContent(bin)*0.3)"
   ]
  },
  {
   "cell_type": "code",
   "execution_count": 10,
   "metadata": {},
   "outputs": [
    {
     "name": "stderr",
     "output_type": "stream",
     "text": [
      "Warning in <TCanvas::Constructor>: Deleting canvas with same name: cvs\n"
     ]
    },
    {
     "data": {
      "image/png": "[encoded data removed]",
      "text/plain": [
       "<IPython.core.display.Image object>"
      ]
     },
     "metadata": {},
     "output_type": "display_data"
    }
   ],
   "source": [
    "c = ROOT.TCanvas(\"cvs\", \"\", 800, 900)\n",
    "#c.SetLogy()\n",
    "c.cd()\n",
    "fake_ljet.Draw()\n",
    "fake_bjet.Draw(\"same\")\n",
    "c.Draw()"
   ]
  },
  {
   "cell_type": "code",
   "execution_count": null,
   "metadata": {},
   "outputs": [],
   "source": []
  },
  {
   "cell_type": "code",
   "execution_count": null,
   "metadata": {},
   "outputs": [],
   "source": []
  }
 ],
 "metadata": {
  "kernelspec": {
   "display_name": "pyg",
   "language": "python",
   "name": "python3"
  },
  "language_info": {
   "codemirror_mode": {
    "name": "ipython",
    "version": 3
   },
   "file_extension": ".py",
   "mimetype": "text/x-python",
   "name": "python",
   "nbconvert_exporter": "python",
   "pygments_lexer": "ipython3",
   "version": "3.11.9"
  }
 },
 "nbformat": 4,
 "nbformat_minor": 2
}
